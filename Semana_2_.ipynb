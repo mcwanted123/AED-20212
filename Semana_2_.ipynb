{
  "nbformat": 4,
  "nbformat_minor": 0,
  "metadata": {
    "colab": {
      "name": "Semana 2 .ipynb",
      "provenance": [],
      "authorship_tag": "ABX9TyPwCVzzKktOX9mzeedVOdye"
    },
    "kernelspec": {
      "name": "python3",
      "display_name": "Python 3"
    },
    "language_info": {
      "name": "python"
    }
  },
  "cells": [
    {
      "cell_type": "markdown",
      "metadata": {
        "id": "iuJoeaGWRmLd"
      },
      "source": [
        "##*Temario*\n",
        "1. Colab\n",
        "2. Compilacion manual\n",
        "3. Templates "
      ]
    },
    {
      "cell_type": "code",
      "metadata": {
        "id": "GmEzg9VNSQgz"
      },
      "source": [
        "#compliar \n",
        "!g++ -std=c++1z -Wall prog1.bin && ./prog1.bin"
      ],
      "execution_count": null,
      "outputs": []
    },
    {
      "cell_type": "code",
      "metadata": {
        "colab": {
          "base_uri": "https://localhost:8080/"
        },
        "id": "Als-_L1uSj3w",
        "outputId": "e3a6b68e-0313-4ac0-f238-54646f87f9a5"
      },
      "source": [
        "%%writefile SinTemplate.cpp\n",
        "typedef unsigned long long ull;\n",
        "\n",
        "class Bignumber {\n",
        "    ull n1;\n",
        "    public:\n",
        "    Bignumber(ull n1=0){\n",
        "        this->n1=n1;\n",
        "    }\n",
        "};\n",
        "\n",
        "class BignumberF {\n",
        "    float n1;\n",
        "    public:\n",
        "    BignumberF (float n1=0){\n",
        "        this->n1=n1;\n",
        "    }\n",
        "};\n",
        "\n",
        "class BignumberD {\n",
        "    double n1;\n",
        "    public:\n",
        "    BignumberD (double n1=0){\n",
        "        this-> n1=n1;\n",
        "    }\n",
        "};\n",
        "\n",
        "int main(){\n",
        "    Bignumber n1;\n",
        "    BignumberF n2;\n",
        "    BignumberD n3;\n",
        "    return 0;\n",
        "}\n",
        "\n",
        "\n"
      ],
      "execution_count": null,
      "outputs": [
        {
          "output_type": "stream",
          "text": [
            "Overwriting SinTemplate.cpp\n"
          ],
          "name": "stdout"
        }
      ]
    },
    {
      "cell_type": "code",
      "metadata": {
        "id": "uIRfZXMqT8rn"
      },
      "source": [
        "!g++ -std=c++1z -Wall SinTemplate.cpp -o SinTemplate.bin && ./SinTemplate.bin"
      ],
      "execution_count": null,
      "outputs": []
    },
    {
      "cell_type": "code",
      "metadata": {
        "colab": {
          "base_uri": "https://localhost:8080/"
        },
        "id": "HH8sVKLPXKCv",
        "outputId": "16c33c79-6655-4d28-8eaa-b8689a67bf1d"
      },
      "source": [
        "%%writefile Contemplates.cpp\n",
        "typedef unsigned long long ull; \n",
        "template <class Tipo>\n",
        "class Bignumber{\n",
        "    Tipo n1;\n",
        "    Tipo n2;\n",
        "    public:\n",
        "    Bignumber  (Tipo n1=0, Tipo n2=0) :n1(n1), n2(n2){}\n",
        "};\n",
        "int main(){\n",
        "    Bignumber<ull> n1;\n",
        "    Bignumber<float> n2;\n",
        "    Bignumber<double> n3;\n",
        "    return 0;\n",
        "}"
      ],
      "execution_count": null,
      "outputs": [
        {
          "output_type": "stream",
          "text": [
            "Overwriting Contemplates.cpp\n"
          ],
          "name": "stdout"
        }
      ]
    },
    {
      "cell_type": "code",
      "metadata": {
        "id": "3EOK89ocXu8V"
      },
      "source": [
        "!g++ -std=c++1z -Wall Contemplates.cpp -o Contemplates.bin && ./Contemplates.bin"
      ],
      "execution_count": null,
      "outputs": []
    },
    {
      "cell_type": "markdown",
      "metadata": {
        "id": "9pCHxcqrbYir"
      },
      "source": [
        "##Estructura de Datos de array con templates"
      ]
    },
    {
      "cell_type": "code",
      "metadata": {
        "id": "5lLXNOKrXu3E"
      },
      "source": [
        "%%writefile estructura.cpp\n",
        "#include <string>\n",
        "using namespace std; \n",
        "class virus{\n",
        "    string name;    \n",
        "};\n",
        "class person{\n",
        "    string name;\n",
        "}\n",
        "template <class Tipo>\n",
        "class Array{\n",
        "    Tipo* arr;\n",
        "    unsigned \n",
        "}\n",
        "\n",
        "\n",
        "/*class Cvirus{\n",
        "    virus* arr;\n",
        "    unsigned short id;\n",
        "    public:\n",
        "    Cvirus{\n",
        "        arr= new virus[100];\n",
        "        id=0;\n",
        "    }\n",
        "    void insert(virus v){\n",
        "        if (id<100){\n",
        "            arr[id]=v;\n",
        "            id++;\n",
        "        }\n",
        "    }\n",
        "    class Cpersom{\n",
        "    person* arr;\n",
        "    unsigned short id;\n",
        "    public:\n",
        "    Cperson{\n",
        "        arr= new person[100];\n",
        "        id=0;\n",
        "    }\n",
        "    void insert(person p){\n",
        "        if (id<100){\n",
        "            arr[id]=v;\n",
        "            id++;\n",
        "        }\n",
        "    } /*\n",
        "};"
      ],
      "execution_count": null,
      "outputs": []
    }
  ]
}